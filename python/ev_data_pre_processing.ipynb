{
 "cells": [
  {
   "cell_type": "code",
   "execution_count": 206,
   "id": "d827c930-25c1-4d3e-82ac-8f5c96eb93e2",
   "metadata": {},
   "outputs": [],
   "source": [
    "import pandas as pd\n",
    "import matplotlib.pyplot as plt\n",
    "import numpy as np\n"
   ]
  },
  {
   "cell_type": "markdown",
   "id": "725e107a",
   "metadata": {},
   "source": []
  },
  {
   "cell_type": "markdown",
   "id": "86dbaba2",
   "metadata": {},
   "source": []
  },
  {
   "cell_type": "code",
   "execution_count": 217,
   "id": "f68ff1a2-50e1-477c-b13f-635ce0724d29",
   "metadata": {},
   "outputs": [],
   "source": [
    "df_b = pd.read_csv(\"./environmentsB.csv\")\n",
    "df_c = pd.read_csv(\"./environmentsC.csv\")\n",
    "df_d = pd.read_csv(\"./environmentsD.csv\")\n",
    "df_e = pd.read_csv(\"./environmentsE.csv\")"
   ]
  },
  {
   "cell_type": "code",
   "execution_count": 218,
   "id": "9e897145",
   "metadata": {},
   "outputs": [],
   "source": [
    "pf_ = df_d.loc[:,\"datetime\":\"innerSolar\"]\n"
   ]
  },
  {
   "cell_type": "code",
   "execution_count": 219,
   "id": "fc0331bd",
   "metadata": {},
   "outputs": [
    {
     "name": "stdout",
     "output_type": "stream",
     "text": [
      "            supplyEC  supplyPH    innerCO2   innerHum  innerTemp  innerSolar\n",
      "date                                                                        \n",
      "2023-10-12  0.476667  5.871111  283.244444  60.341111  20.001111   60.535556\n",
      "2023-10-13  0.185000  5.993750  309.998750  60.836875  20.494375  158.547500\n",
      "2023-10-16  0.322000  5.990000  234.000000  28.000000  30.000000  856.000000\n",
      "2023-10-17  0.427143  5.988571  232.239286  29.585714  28.750714  663.248571\n",
      "2023-10-18  0.610000  5.998000  233.447000  28.000000  30.774000  531.837000\n",
      "...              ...       ...         ...        ...        ...         ...\n",
      "2024-04-19  0.665000  5.997083  286.712917  54.585417  18.177917   58.870417\n",
      "2024-04-20  0.869583  6.000000  293.347917  77.029167  15.248750   78.989583\n",
      "2024-04-21  0.867500  6.000000  269.099167  72.064583  18.037917   73.195417\n",
      "2024-04-22  0.687917  6.000000  260.050833  58.931250  19.734167   60.585833\n",
      "2024-04-23  0.821111  6.000000  256.068889  53.426667  19.013333   55.750556\n",
      "\n",
      "[189 rows x 6 columns]\n"
     ]
    },
    {
     "name": "stderr",
     "output_type": "stream",
     "text": [
      "C:\\Users\\supnova\\AppData\\Local\\Temp\\ipykernel_10040\\1311339998.py:3: FutureWarning: The default value of numeric_only in DataFrameGroupBy.mean is deprecated. In a future version, numeric_only will default to False. Either specify numeric_only or select only columns which should be valid for the function.\n",
      "  re_df = re_df.groupby('date').mean()\n"
     ]
    }
   ],
   "source": [
    "re_df = pf_\n",
    "re_df['date'] = re_df['datetime'].str[:10] \n",
    "re_df = re_df.groupby('date').mean()\n",
    "re_df = re_df.reset_index(drop=False)\n",
    "\n",
    "re_df['date'] = pd.to_datetime(re_df['date'])\n",
    "re_df = re_df.set_index(['date'])\n",
    "#re_df['date'] = re_df['date'].str.replace('-','')\n",
    "\n",
    "#print(re_df[10:40])\n",
    "print(re_df)"
   ]
  },
  {
   "cell_type": "code",
   "execution_count": 220,
   "id": "3d72318d",
   "metadata": {},
   "outputs": [
    {
     "data": {
      "text/html": [
       "<div>\n",
       "<style scoped>\n",
       "    .dataframe tbody tr th:only-of-type {\n",
       "        vertical-align: middle;\n",
       "    }\n",
       "\n",
       "    .dataframe tbody tr th {\n",
       "        vertical-align: top;\n",
       "    }\n",
       "\n",
       "    .dataframe thead th {\n",
       "        text-align: right;\n",
       "    }\n",
       "</style>\n",
       "<table border=\"1\" class=\"dataframe\">\n",
       "  <thead>\n",
       "    <tr style=\"text-align: right;\">\n",
       "      <th></th>\n",
       "      <th>supplyEC</th>\n",
       "      <th>supplyPH</th>\n",
       "      <th>innerCO2</th>\n",
       "      <th>innerHum</th>\n",
       "      <th>innerTemp</th>\n",
       "      <th>innerSolar</th>\n",
       "    </tr>\n",
       "    <tr>\n",
       "      <th>date</th>\n",
       "      <th></th>\n",
       "      <th></th>\n",
       "      <th></th>\n",
       "      <th></th>\n",
       "      <th></th>\n",
       "      <th></th>\n",
       "    </tr>\n",
       "  </thead>\n",
       "  <tbody>\n",
       "    <tr>\n",
       "      <th>2023-10-15</th>\n",
       "      <td>0.330833</td>\n",
       "      <td>5.932431</td>\n",
       "      <td>296.621597</td>\n",
       "      <td>60.588993</td>\n",
       "      <td>20.247743</td>\n",
       "      <td>109.541528</td>\n",
       "    </tr>\n",
       "    <tr>\n",
       "      <th>2023-10-22</th>\n",
       "      <td>0.300711</td>\n",
       "      <td>5.992546</td>\n",
       "      <td>216.772446</td>\n",
       "      <td>30.637304</td>\n",
       "      <td>17.610376</td>\n",
       "      <td>366.902998</td>\n",
       "    </tr>\n",
       "    <tr>\n",
       "      <th>2023-10-29</th>\n",
       "      <td>0.588274</td>\n",
       "      <td>5.993631</td>\n",
       "      <td>24.214524</td>\n",
       "      <td>3.542619</td>\n",
       "      <td>0.822381</td>\n",
       "      <td>8.140774</td>\n",
       "    </tr>\n",
       "    <tr>\n",
       "      <th>2023-11-05</th>\n",
       "      <td>0.560448</td>\n",
       "      <td>5.997725</td>\n",
       "      <td>0.000000</td>\n",
       "      <td>0.000000</td>\n",
       "      <td>0.000000</td>\n",
       "      <td>0.000000</td>\n",
       "    </tr>\n",
       "    <tr>\n",
       "      <th>2023-11-12</th>\n",
       "      <td>0.221714</td>\n",
       "      <td>5.998036</td>\n",
       "      <td>187.082175</td>\n",
       "      <td>31.238400</td>\n",
       "      <td>6.742751</td>\n",
       "      <td>32.452410</td>\n",
       "    </tr>\n",
       "  </tbody>\n",
       "</table>\n",
       "</div>"
      ],
      "text/plain": [
       "            supplyEC  supplyPH    innerCO2   innerHum  innerTemp  innerSolar\n",
       "date                                                                        \n",
       "2023-10-15  0.330833  5.932431  296.621597  60.588993  20.247743  109.541528\n",
       "2023-10-22  0.300711  5.992546  216.772446  30.637304  17.610376  366.902998\n",
       "2023-10-29  0.588274  5.993631   24.214524   3.542619   0.822381    8.140774\n",
       "2023-11-05  0.560448  5.997725    0.000000   0.000000   0.000000    0.000000\n",
       "2023-11-12  0.221714  5.998036  187.082175  31.238400   6.742751   32.452410"
      ]
     },
     "execution_count": 220,
     "metadata": {},
     "output_type": "execute_result"
    }
   ],
   "source": [
    "weak_resample = re_df.resample('W').mean()\n",
    "weak_resample.head()"
   ]
  },
  {
   "cell_type": "code",
   "execution_count": 221,
   "id": "d557dab1",
   "metadata": {},
   "outputs": [],
   "source": [
    "weak_resample.to_csv('p_d_ev_data.csv')"
   ]
  },
  {
   "cell_type": "code",
   "execution_count": null,
   "id": "ae7f6877",
   "metadata": {},
   "outputs": [],
   "source": []
  },
  {
   "cell_type": "code",
   "execution_count": null,
   "id": "c3ebd26a",
   "metadata": {},
   "outputs": [],
   "source": []
  },
  {
   "cell_type": "code",
   "execution_count": null,
   "id": "b9f4fd0c",
   "metadata": {},
   "outputs": [],
   "source": []
  }
 ],
 "metadata": {
  "kernelspec": {
   "display_name": "Python 3 (ipykernel)",
   "language": "python",
   "name": "python3"
  },
  "language_info": {
   "codemirror_mode": {
    "name": "ipython",
    "version": 3
   },
   "file_extension": ".py",
   "mimetype": "text/x-python",
   "name": "python",
   "nbconvert_exporter": "python",
   "pygments_lexer": "ipython3",
   "version": "3.10.11"
  }
 },
 "nbformat": 4,
 "nbformat_minor": 5
}
